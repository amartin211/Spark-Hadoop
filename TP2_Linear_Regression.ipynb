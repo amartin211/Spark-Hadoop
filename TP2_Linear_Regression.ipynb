{
 "cells": [
  {
   "cell_type": "code",
   "execution_count": 1501,
   "metadata": {},
   "outputs": [
    {
     "data": {
      "text/html": [
       "<div>\n",
       "<style scoped>\n",
       "    .dataframe tbody tr th:only-of-type {\n",
       "        vertical-align: middle;\n",
       "    }\n",
       "\n",
       "    .dataframe tbody tr th {\n",
       "        vertical-align: top;\n",
       "    }\n",
       "\n",
       "    .dataframe thead th {\n",
       "        text-align: right;\n",
       "    }\n",
       "</style>\n",
       "<table border=\"1\" class=\"dataframe\">\n",
       "  <thead>\n",
       "    <tr style=\"text-align: right;\">\n",
       "      <th></th>\n",
       "      <th>year</th>\n",
       "      <th>gnp</th>\n",
       "      <th>invest</th>\n",
       "      <th>cpi</th>\n",
       "      <th>interest</th>\n",
       "    </tr>\n",
       "  </thead>\n",
       "  <tbody>\n",
       "    <tr>\n",
       "      <th>0</th>\n",
       "      <td>1968</td>\n",
       "      <td>873.4</td>\n",
       "      <td>133.3</td>\n",
       "      <td>82.54</td>\n",
       "      <td>5.16</td>\n",
       "    </tr>\n",
       "    <tr>\n",
       "      <th>1</th>\n",
       "      <td>1969</td>\n",
       "      <td>944.0</td>\n",
       "      <td>149.3</td>\n",
       "      <td>86.79</td>\n",
       "      <td>5.87</td>\n",
       "    </tr>\n",
       "    <tr>\n",
       "      <th>2</th>\n",
       "      <td>1970</td>\n",
       "      <td>992.7</td>\n",
       "      <td>144.2</td>\n",
       "      <td>91.45</td>\n",
       "      <td>5.95</td>\n",
       "    </tr>\n",
       "    <tr>\n",
       "      <th>3</th>\n",
       "      <td>1971</td>\n",
       "      <td>1077.6</td>\n",
       "      <td>166.4</td>\n",
       "      <td>96.01</td>\n",
       "      <td>4.88</td>\n",
       "    </tr>\n",
       "    <tr>\n",
       "      <th>4</th>\n",
       "      <td>1972</td>\n",
       "      <td>1185.9</td>\n",
       "      <td>195.0</td>\n",
       "      <td>100.00</td>\n",
       "      <td>4.50</td>\n",
       "    </tr>\n",
       "    <tr>\n",
       "      <th>5</th>\n",
       "      <td>1973</td>\n",
       "      <td>1326.4</td>\n",
       "      <td>229.8</td>\n",
       "      <td>105.75</td>\n",
       "      <td>6.44</td>\n",
       "    </tr>\n",
       "    <tr>\n",
       "      <th>6</th>\n",
       "      <td>1974</td>\n",
       "      <td>1434.2</td>\n",
       "      <td>228.7</td>\n",
       "      <td>115.08</td>\n",
       "      <td>7.83</td>\n",
       "    </tr>\n",
       "    <tr>\n",
       "      <th>7</th>\n",
       "      <td>1975</td>\n",
       "      <td>1549.2</td>\n",
       "      <td>206.1</td>\n",
       "      <td>125.79</td>\n",
       "      <td>6.25</td>\n",
       "    </tr>\n",
       "    <tr>\n",
       "      <th>8</th>\n",
       "      <td>1976</td>\n",
       "      <td>1718.0</td>\n",
       "      <td>257.9</td>\n",
       "      <td>132.34</td>\n",
       "      <td>5.50</td>\n",
       "    </tr>\n",
       "    <tr>\n",
       "      <th>9</th>\n",
       "      <td>1977</td>\n",
       "      <td>1918.3</td>\n",
       "      <td>324.1</td>\n",
       "      <td>140.05</td>\n",
       "      <td>5.46</td>\n",
       "    </tr>\n",
       "    <tr>\n",
       "      <th>10</th>\n",
       "      <td>1978</td>\n",
       "      <td>2163.9</td>\n",
       "      <td>386.6</td>\n",
       "      <td>150.42</td>\n",
       "      <td>7.46</td>\n",
       "    </tr>\n",
       "    <tr>\n",
       "      <th>11</th>\n",
       "      <td>1979</td>\n",
       "      <td>2417.8</td>\n",
       "      <td>423.0</td>\n",
       "      <td>163.42</td>\n",
       "      <td>10.28</td>\n",
       "    </tr>\n",
       "    <tr>\n",
       "      <th>12</th>\n",
       "      <td>1980</td>\n",
       "      <td>2633.1</td>\n",
       "      <td>402.3</td>\n",
       "      <td>178.64</td>\n",
       "      <td>11.77</td>\n",
       "    </tr>\n",
       "    <tr>\n",
       "      <th>13</th>\n",
       "      <td>1981</td>\n",
       "      <td>2937.7</td>\n",
       "      <td>471.5</td>\n",
       "      <td>195.51</td>\n",
       "      <td>13.42</td>\n",
       "    </tr>\n",
       "    <tr>\n",
       "      <th>14</th>\n",
       "      <td>1982</td>\n",
       "      <td>3057.5</td>\n",
       "      <td>421.9</td>\n",
       "      <td>207.23</td>\n",
       "      <td>11.02</td>\n",
       "    </tr>\n",
       "  </tbody>\n",
       "</table>\n",
       "</div>"
      ],
      "text/plain": [
       "    year     gnp  invest     cpi  interest\n",
       "0   1968   873.4   133.3   82.54      5.16\n",
       "1   1969   944.0   149.3   86.79      5.87\n",
       "2   1970   992.7   144.2   91.45      5.95\n",
       "3   1971  1077.6   166.4   96.01      4.88\n",
       "4   1972  1185.9   195.0  100.00      4.50\n",
       "5   1973  1326.4   229.8  105.75      6.44\n",
       "6   1974  1434.2   228.7  115.08      7.83\n",
       "7   1975  1549.2   206.1  125.79      6.25\n",
       "8   1976  1718.0   257.9  132.34      5.50\n",
       "9   1977  1918.3   324.1  140.05      5.46\n",
       "10  1978  2163.9   386.6  150.42      7.46\n",
       "11  1979  2417.8   423.0  163.42     10.28\n",
       "12  1980  2633.1   402.3  178.64     11.77\n",
       "13  1981  2937.7   471.5  195.51     13.42\n",
       "14  1982  3057.5   421.9  207.23     11.02"
      ]
     },
     "execution_count": 1501,
     "metadata": {},
     "output_type": "execute_result"
    }
   ],
   "source": [
    "import pandas as pd\n",
    "import numpy as np\n",
    "import matplotlib.pyplot as plt\n",
    "import matplotlib as mpl\n",
    "link = \"https://bitbucket.org/portierf/shared_files/downloads/invest.txt\"\n",
    "\n",
    "df = pd.read_csv(link, sep=\" \")\n",
    "df"
   ]
  },
  {
   "cell_type": "code",
   "execution_count": 1488,
   "metadata": {},
   "outputs": [
    {
     "data": {
      "image/png": "[encoded data removed]",
      "text/plain": [
       "<Figure size 576x396 with 1 Axes>"
      ]
     },
     "metadata": {},
     "output_type": "display_data"
    }
   ],
   "source": [
    "# Exercice 2\n",
    "\n",
    "\n",
    "X = np.log(df['gnp'])\n",
    "Y = np.log(df['invest'])\n",
    "\n",
    "fig, ax = plt.subplots()\n",
    "ax.plot(X, Y,linestyle=\"\",marker=\"o\")\n",
    "\n",
    "ax.set(xlabel='GNP', ylabel='Investment',\n",
    "       title='Gross National Product')\n",
    "ax.grid()"
   ]
  },
  {
   "cell_type": "code",
   "execution_count": 1489,
   "metadata": {},
   "outputs": [
    {
     "data": {
      "text/plain": [
       "-1.8507607793429495"
      ]
     },
     "execution_count": 1489,
     "metadata": {},
     "output_type": "execute_result"
    }
   ],
   "source": [
    "# Exercice 3\n",
    "intercept = np.mean(Y) - np.mean(X)\n",
    "n = len(Y)\n",
    "Y_mean = np.mean(Y)\n",
    "X_mean = np.mean(X)\n",
    "theta_1 = sum((X - X_mean)*(Y - Y_mean))/sum((X-X_mean)**2)\n",
    "theta_0 = Y_mean - (X_mean*theta_1)\n",
    "\n",
    "residual = sum((Y - (theta_0 + X*theta_1))**2)\n",
    "\n",
    "var_hat = 1/(n-2) * residual\n",
    "\n",
    "sigma_theta0 = np.sqrt(var_hat*1/n*X_mean**2/sum((X-X_mean)**2))\n",
    "\n",
    "sigma_theta1 = np.sqrt((var_hat*1/sum((X-X_mean)**2)))\n",
    "\n",
    "theta_hat = [theta_0,theta_1]\n",
    "\n",
    "R_square = 1 - residual/sum((Y - Y_mean)**2)\n",
    "\n",
    "intercept"
   ]
  },
  {
   "cell_type": "code",
   "execution_count": 1490,
   "metadata": {},
   "outputs": [
    {
     "data": {
      "text/plain": [
       "18.33198445686668"
      ]
     },
     "execution_count": 1490,
     "metadata": {},
     "output_type": "execute_result"
    }
   ],
   "source": [
    "sigma_X = np.std(X)\n",
    "Quant_student = 1.771 # alpha =0.05 & freedom = n-2 = 13\n",
    "x\n",
    "\n",
    "theta1_stat = theta1/sigma_theta1\n",
    "\n",
    "p_value = 0 #(from student t-test table)\n",
    "theta1_stat"
   ]
  },
  {
   "cell_type": "code",
   "execution_count": 1565,
   "metadata": {},
   "outputs": [
    {
     "data": {
      "text/plain": [
       "155.97942793105466"
      ]
     },
     "execution_count": 1565,
     "metadata": {},
     "output_type": "execute_result"
    }
   ],
   "source": [
    "Pred_Ylog = np.sum(theta_0) + np.sum(theta_1*np.log(1000))\n",
    "Pred_Y = np.exp(Pred_Ylog)\n",
    "theta_lowertail = theta1 - (sigma_theta1/Quant_student*np.sqrt(n))\n",
    "theta_uppertail = theta1 + (sigma_theta1/Quant_student*np.sqrt(n))\n",
    "\n",
    "lower_predtail = Pred_Ylog = np.sum(theta_0) + np.sum(theta_lowertail*np.log(1000))\n",
    "upper_predtail = Pred_Ylog = np.sum(theta_0) + np.sum(theta_uppertail*np.log(1000))\n",
    "\n",
    "pred_interval = (np.exp(lower_predtail),np.exp(upper_predtail))\n",
    "pred_interval\n",
    "\n",
    "\n",
    "Pred_Y"
   ]
  },
  {
   "cell_type": "code",
   "execution_count": 1492,
   "metadata": {},
   "outputs": [
    {
     "data": {
      "text/plain": [
       "[Text(0,0.5,'Investment'),\n",
       " Text(0.5,0,'GNP'),\n",
       " Text(0.5,1,'Gross National Product')]"
      ]
     },
     "execution_count": 1492,
     "metadata": {},
     "output_type": "execute_result"
    },
    {
     "data": {
      "image/png": "[encoded data removed]",
      "text/plain": [
       "<Figure size 576x396 with 1 Axes>"
      ]
     },
     "metadata": {},
     "output_type": "display_data"
    }
   ],
   "source": [
    "\n",
    "ones = np.ones(len(X))\n",
    "X_matrix = np.stack((ones,X),axis=1)\n",
    "\n",
    "prediction_line =[]\n",
    "\n",
    "for i in X:\n",
    "    if i>min_X and i<max(X):\n",
    "        prediction_line.append(theta_0 + theta_1*i)\n",
    "        \n",
    "mpl.style.use('seaborn')\n",
    "fig, ax = plt.subplots()\n",
    "ax.plot(X, Y,linestyle=\"\",marker=\"o\")\n",
    "ax.plot(X[1:-1], prediction_line, color='green', linewidth=2.5)\n",
    "\n",
    "ax.set(xlabel='GNP', ylabel='Investment',\n",
    "            title='Gross National Product')\n"
   ]
  },
  {
   "cell_type": "code",
   "execution_count": 1493,
   "metadata": {},
   "outputs": [
    {
     "name": "stdout",
     "output_type": "stream",
     "text": [
      "                            OLS Regression Results                            \n",
      "==============================================================================\n",
      "Dep. Variable:                 invest   R-squared:                       0.963\n",
      "Model:                            OLS   Adj. R-squared:                  0.960\n",
      "Method:                 Least Squares   F-statistic:                     336.1\n",
      "Date:                Sun, 14 Oct 2018   Prob (F-statistic):           1.14e-10\n",
      "Time:                        18:37:08   Log-Likelihood:                 16.311\n",
      "No. Observations:                  15   AIC:                            -28.62\n",
      "Df Residuals:                      13   BIC:                            -27.21\n",
      "Df Model:                           1                                         \n",
      "Covariance Type:            nonrobust                                         \n",
      "==============================================================================\n",
      "                 coef    std err          t      P>|t|      [0.025      0.975]\n",
      "------------------------------------------------------------------------------\n",
      "const         -1.9636      0.410     -4.795      0.000      -2.848      -1.079\n",
      "x1             1.0153      0.055     18.332      0.000       0.896       1.135\n",
      "==============================================================================\n",
      "Omnibus:                        0.683   Durbin-Watson:                   1.343\n",
      "Prob(Omnibus):                  0.711   Jarque-Bera (JB):                0.597\n",
      "Skew:                          -0.412   Prob(JB):                        0.742\n",
      "Kurtosis:                       2.474   Cond. No.                         136.\n",
      "==============================================================================\n",
      "\n",
      "Warnings:\n",
      "[1] Standard Errors assume that the covariance matrix of the errors is correctly specified.\n"
     ]
    },
    {
     "name": "stderr",
     "output_type": "stream",
     "text": [
      "/anaconda3/lib/python3.6/site-packages/scipy/stats/stats.py:1394: UserWarning: kurtosistest only valid for n>=20 ... continuing anyway, n=15\n",
      "  \"anyway, n=%i\" % int(n))\n"
     ]
    }
   ],
   "source": [
    "import statsmodels.api as sm\n",
    "\n",
    "est = sm.OLS(Y, X_matrice)\n",
    "est2 = est.fit()\n",
    "print(est2.summary())"
   ]
  },
  {
   "cell_type": "code",
   "execution_count": 1566,
   "metadata": {},
   "outputs": [
    {
     "data": {
      "image/png": "[encoded data removed]",
      "text/plain": [
       "<Figure size 576x396 with 1 Axes>"
      ]
     },
     "metadata": {},
     "output_type": "display_data"
    }
   ],
   "source": [
    "from sklearn import linear_model\n",
    "\n",
    "gnp_test = np.array([1,np.log(1000)]).reshape(1,-1)\n",
    "\n",
    "regr = linear_model.LinearRegression()\n",
    "regr.fit(X_matrix, Y)\n",
    "Y_pred = regr.predict(X_matrix)\n",
    "Y_pred1 = regr.predict(gnp_test)\n",
    "\n",
    "fig, ax = plt.subplots()\n",
    "plt.scatter(X, Y,  color='black')\n",
    "plt.plot(X, Y_pred, color='blue', linewidth=3)\n",
    "plt.plot(gnp_test[0,1],Y_pred1, linestyle=\"\",marker=\"o\",color ='red',ms =15)\n",
    "\n",
    "plt.suptitle('Linear Regression', fontsize=20)\n",
    "plt.xlabel('GNP')\n",
    "plt.ylabel('Investment')\n",
    "\n",
    "plt.grid()\n",
    "assert np.exp(Y_pred1) == Pred_Y, 'The two predictions for Y does not match'\n",
    "\n"
   ]
  },
  {
   "cell_type": "code",
   "execution_count": 1567,
   "metadata": {},
   "outputs": [
    {
     "name": "stdout",
     "output_type": "stream",
     "text": [
      "(15, 1)\n",
      "(15, 3)\n",
      "The two matrices are similar, X is diagonalisable and thus has a full rank of 3\n"
     ]
    }
   ],
   "source": [
    "from numpy.linalg import inv,eig\n",
    "\n",
    "\n",
    "X2 = np.array(df['interest']).reshape(-1,1)\n",
    "X_mat = np.column_stack((X_matrix,X2))\n",
    "Y = np.array(Y).reshape(-1,1)\n",
    "print (np.shape(Y))\n",
    "print(np.shape(X_mat))\n",
    "\n",
    "np.shape(X_mat.T.dot(X_mat))\n",
    "np.shape(X_mat.T.dot(Y))\n",
    "\n",
    "assert np.shape(thetas) == (3,1), 'There is a problem of matrix dimension'\n",
    "\n",
    "eigval , eigvec = eig(X_mat.T.dot(X_mat)) # setting eigenvalues and eigenvectors\n",
    "\n",
    "eigval_mat = eigval*np.eye(3,3) # eigen value matrix\n",
    "\n",
    "reconstructed_matrix = eigvec.dot(eigval_mat).dot(eigvec.T)\n",
    "XTX_matrix = X_mat.T.dot(X_mat)\n",
    "\n",
    " \n",
    "U= np.random.rand(1,3) # Setting a random vector U of shape (1,3)\n",
    "\n",
    "if np.round(U.dot(XTX_matrix).dot(U.T))== np.round(U.dot(reconstructed_matrix).dot(U.T)):\n",
    "    print (\"The two matrices are similar, X is diagonalisable and thus has a full rank of \" + str(len(X_mat[0])))"
   ]
  },
  {
   "cell_type": "code",
   "execution_count": null,
   "metadata": {},
   "outputs": [],
   "source": [
    "thetas = inv(X_mat.T.dot(X_mat)).dot(X_mat.T.dot(Y))\n",
    "thet0, thet1, thet2,  = thetas\n",
    "\n",
    "assert np.shape(thetas) == (3,1), \"Dimension of thetas vector is incorect\"\n",
    "\n",
    "# Two options to calculate R2\n",
    "r_squared = sum((X_mat.dot(thetas)-Y_mean)**2)/sum((Y - Y_mean)**2) # Option 1\n",
    "r_squared1 = 1 - sum((Y - X_mat.dot(thetas))**2)/sum((Y - Y_mean)**2)# Option 2\n",
    "\n",
    "\n",
    "\n",
    "residu = (1/(n-3))*sum((Y - X_mat.dot(thetas))**2) \n",
    "# SSE (similar to Y'(I-H)Y) with H = Xinv(X'X)X'\n",
    "\n",
    "\n",
    "H = X_mat.dot(inv(X_mat.T.dot(X_mat))).dot(X_mat.T)\n",
    "\n",
    "assert np.shape(H) == (15,15), 'Dimension of the projector matrix H is incorrect'\n",
    "\n",
    "SSE = Y.T.dot(np.eye(15,15)-H).dot(Y)/(n-3)\n",
    "I = np.sqrt(SSE*(inv(X_mat.T.dot(X_mat)))) \n",
    "\n",
    "# Diagonal elements of the matrix I are the thetas variance\n",
    "\n",
    "\n",
    "thet_var = []\n",
    "for i in range(len(I)):\n",
    "    thet_var.append(I[i,i])\n",
    "    "
   ]
  },
  {
   "cell_type": "code",
   "execution_count": null,
   "metadata": {},
   "outputs": [],
   "source": [
    "\n",
    "t_stat0 = thet0/(I[0,0])\n",
    "t_stat1 = thet1/(I[1,1])\n",
    "t_stat2 = thet2/(I[2,2])\n",
    "test = (t_stat0,t_stat1,t_stat2)\n"
   ]
  },
  {
   "cell_type": "code",
   "execution_count": 1499,
   "metadata": {},
   "outputs": [
    {
     "data": {
      "text/html": [
       "<div>\n",
       "<style scoped>\n",
       "    .dataframe tbody tr th:only-of-type {\n",
       "        vertical-align: middle;\n",
       "    }\n",
       "\n",
       "    .dataframe tbody tr th {\n",
       "        vertical-align: top;\n",
       "    }\n",
       "\n",
       "    .dataframe thead th {\n",
       "        text-align: right;\n",
       "    }\n",
       "</style>\n",
       "<table border=\"1\" class=\"dataframe\">\n",
       "  <thead>\n",
       "    <tr style=\"text-align: right;\">\n",
       "      <th></th>\n",
       "      <th>thetas</th>\n",
       "      <th>Coefficient</th>\n",
       "      <th>Std err</th>\n",
       "      <th>T-stat</th>\n",
       "    </tr>\n",
       "  </thead>\n",
       "  <tbody>\n",
       "    <tr>\n",
       "      <th>0</th>\n",
       "      <td>theta 0</td>\n",
       "      <td>[-2.180454725911659]</td>\n",
       "      <td>0.662399</td>\n",
       "      <td>[-3.2917532715749966]</td>\n",
       "    </tr>\n",
       "    <tr>\n",
       "      <th>1</th>\n",
       "      <td>theta 1</td>\n",
       "      <td>[1.0512426913199278]</td>\n",
       "      <td>0.102061</td>\n",
       "      <td>[10.300102855110923]</td>\n",
       "    </tr>\n",
       "    <tr>\n",
       "      <th>2</th>\n",
       "      <td>theta 2</td>\n",
       "      <td>[-0.0065288794060975874]</td>\n",
       "      <td>0.015344</td>\n",
       "      <td>[-0.4254947962276262]</td>\n",
       "    </tr>\n",
       "  </tbody>\n",
       "</table>\n",
       "</div>"
      ],
      "text/plain": [
       "    thetas               Coefficient   Std err                 T-stat\n",
       "0  theta 0      [-2.180454725911659]  0.662399  [-3.2917532715749966]\n",
       "1  theta 1      [1.0512426913199278]  0.102061   [10.300102855110923]\n",
       "2  theta 2  [-0.0065288794060975874]  0.015344  [-0.4254947962276262]"
      ]
     },
     "execution_count": 1499,
     "metadata": {},
     "output_type": "execute_result"
    }
   ],
   "source": [
    "# Displaying OLS result in a dataframe\n",
    "\n",
    "ols_result = {'thetas': ['theta 0', 'theta 1', 'theta 2'],\n",
    "         'Coefficient': [thetas[0], thetas[1], thetas[2]],\n",
    "         'Std err': [thet_var[0],thet_var[1],thet_var[2]],\n",
    "         'T-stat': [statistic[0],statistic[1],statistic[2]]}\n",
    "df1 = pd.DataFrame.from_dict(ols_result)\n",
    "df1"
   ]
  },
  {
   "cell_type": "code",
   "execution_count": null,
   "metadata": {},
   "outputs": [],
   "source": [
    "student = 1.771\n",
    "for i in range(len(test)):\n",
    "    if test[i]>= -student and test[i]<= student:\n",
    "        print ('fail to reject the null hypothesis for theta'+str(i))\n",
    "    else:\n",
    "        print('reject the null for theta'+str(i))\n",
    "\n",
    "#Conclusion = From the OLS result, theta2 doesn't seem to be significant at 5% level.\n",
    "# Therefore we reject the null hypothesis and conclude that theta2 \n",
    "#(coefficient for the \"interest\" variable° does NOT add anything meaningfull to explain Y."
   ]
  },
  {
   "cell_type": "code",
   "execution_count": 1544,
   "metadata": {},
   "outputs": [
    {
     "name": "stdout",
     "output_type": "stream",
     "text": [
      "[5.01598373]\n",
      "(1, 3) (3, 1)\n",
      "[3.83322133] [6.19874613]\n"
     ]
    },
    {
     "data": {
      "text/plain": [
       "15"
      ]
     },
     "execution_count": 1544,
     "metadata": {},
     "output_type": "execute_result"
    }
   ],
   "source": [
    "new_observation = np.array([1,np.log(1000),10])\n",
    "pred_Y_invest = new_observation.dot(thetas)\n",
    "print (pred_Y_invest)\n",
    "\n",
    "var_stand = thet_var/np.sqrt(n).reshape(-1,1)\n",
    "\n",
    "assert np.shape(stand)==(1,3), 'The dimensions of var_stand are incorrect'\n",
    "\n",
    "print(np.shape(stand), np.shape(thetas))\n",
    "\n",
    "lower_range_thetas = thetas - (stand.T * 3.012)# Df= 13 and alpha at 99%\n",
    "upper_range_thetas = thetas + (stand.T * 3.012)\n",
    "\n",
    "Y_predict_lower = new_observation.dot(lower_range_thetas)\n",
    "Y_predict_upper = new_observation.dot(upper_range_thetas)\n",
    "\n",
    "print(Y_predict_lower,Y_predict_upper)\n",
    "Z.reshape(-1,1)\n",
    "np.shape(np.array(Y).reshape(-1,1))\n",
    "Z_plot.T.ravel()\n",
    "len(Y)"
   ]
  },
  {
   "cell_type": "code",
   "execution_count": 1676,
   "metadata": {},
   "outputs": [
    {
     "ename": "ValueError",
     "evalue": "cannot reshape array of size 15 into shape (15,15)",
     "output_type": "error",
     "traceback": [
      "\u001b[0;31m---------------------------------------------------------------------------\u001b[0m",
      "\u001b[0;31mValueError\u001b[0m                                Traceback (most recent call last)",
      "\u001b[0;32m<ipython-input-1676-431c9533cf42>\u001b[0m in \u001b[0;36m<module>\u001b[0;34m()\u001b[0m\n\u001b[1;32m     17\u001b[0m     \u001b[0my_hatplan\u001b[0m \u001b[0;34m=\u001b[0m \u001b[0mX_mat\u001b[0m\u001b[0;34m[\u001b[0m\u001b[0mi\u001b[0m\u001b[0;34m,\u001b[0m\u001b[0;34m:\u001b[0m\u001b[0;34m]\u001b[0m\u001b[0;34m.\u001b[0m\u001b[0mdot\u001b[0m\u001b[0;34m(\u001b[0m\u001b[0mthetas\u001b[0m\u001b[0;34m)\u001b[0m\u001b[0;34m\u001b[0m\u001b[0m\n\u001b[1;32m     18\u001b[0m     \u001b[0mplan\u001b[0m\u001b[0;34m.\u001b[0m\u001b[0mappend\u001b[0m\u001b[0;34m(\u001b[0m\u001b[0my_hatplan\u001b[0m\u001b[0;34m)\u001b[0m\u001b[0;34m\u001b[0m\u001b[0m\n\u001b[0;32m---> 19\u001b[0;31m \u001b[0mplanY\u001b[0m \u001b[0;34m=\u001b[0m \u001b[0mnp\u001b[0m\u001b[0;34m.\u001b[0m\u001b[0marray\u001b[0m\u001b[0;34m(\u001b[0m\u001b[0mplan\u001b[0m\u001b[0;34m)\u001b[0m\u001b[0;34m.\u001b[0m\u001b[0mreshape\u001b[0m\u001b[0;34m(\u001b[0m\u001b[0mxx\u001b[0m\u001b[0;34m.\u001b[0m\u001b[0mshape\u001b[0m\u001b[0;34m)\u001b[0m\u001b[0;34m\u001b[0m\u001b[0m\n\u001b[0m\u001b[1;32m     20\u001b[0m \u001b[0;34m\u001b[0m\u001b[0m\n\u001b[1;32m     21\u001b[0m \u001b[0mxx\u001b[0m \u001b[0;34m,\u001b[0m \u001b[0myy\u001b[0m \u001b[0;34m=\u001b[0m \u001b[0mnp\u001b[0m\u001b[0;34m.\u001b[0m\u001b[0mmeshgrid\u001b[0m\u001b[0;34m(\u001b[0m\u001b[0mx_vals\u001b[0m\u001b[0;34m,\u001b[0m\u001b[0mY\u001b[0m\u001b[0;34m)\u001b[0m\u001b[0;34m\u001b[0m\u001b[0m\n",
      "\u001b[0;31mValueError\u001b[0m: cannot reshape array of size 15 into shape (15,15)"
     ]
    },
    {
     "data": {
      "image/png": "[encoded data removed]",
      "text/plain": [
       "<Figure size 720x720 with 1 Axes>"
      ]
     },
     "metadata": {},
     "output_type": "display_data"
    }
   ],
   "source": [
    "from matplotlib import pyplot\n",
    "from mpl_toolkits.mplot3d import Axes3D\n",
    "\n",
    "\n",
    "fig = plt.figure(figsize=(10, 10))\n",
    "ax = fig.gca(projection='3d')\n",
    "\n",
    "x_vals = X_plot.T.ravel()\n",
    "y_vals = Y_plot.T.ravel()\n",
    "z_vals = Z_plot.T.ravel()\n",
    "\n",
    "\n",
    "ax.scatter(x_vals,z_vals,y_vals, c='r',marker='o',s= 70)\n",
    "\n",
    "plan = []\n",
    "for i in range(len(Y)):\n",
    "    y_hatplan = X_mat[i,:].dot(thetas)\n",
    "    plan.append(y_hatplan)\n",
    "planY = np.array(plan).reshape(xx.shape)\n",
    "\n",
    "xx , yy = np.meshgrid(x_vals,Y)\n",
    "\n",
    "ax.plot_surface(xx, yy, planY, color='blue',rstride=1,cstride=1,alpha = 0.1)\n",
    "                    #plan =  np.column_stack((plan_x,plan_z))\n",
    "\n",
    "pyplot.show()\n",
    "\n",
    "\n",
    "   #ax = fig.add_subplot(111, projection='3d')\n",
    "plt.show()"
   ]
  },
  {
   "cell_type": "code",
   "execution_count": 1568,
   "metadata": {},
   "outputs": [
    {
     "name": "stdout",
     "output_type": "stream",
     "text": [
      "                            OLS Regression Results                            \n",
      "==============================================================================\n",
      "Dep. Variable:                      y   R-squared:                       0.963\n",
      "Model:                            OLS   Adj. R-squared:                  0.957\n",
      "Method:                 Least Squares   F-statistic:                     157.5\n",
      "Date:                Sun, 14 Oct 2018   Prob (F-statistic):           2.44e-09\n",
      "Time:                        19:18:15   Log-Likelihood:                 16.424\n",
      "No. Observations:                  15   AIC:                            -26.85\n",
      "Df Residuals:                      12   BIC:                            -24.72\n",
      "Df Model:                           2                                         \n",
      "Covariance Type:            nonrobust                                         \n",
      "==============================================================================\n",
      "                 coef    std err          t      P>|t|      [0.025      0.975]\n",
      "------------------------------------------------------------------------------\n",
      "const         -2.1805      0.662     -3.292      0.006      -3.624      -0.737\n",
      "x1             1.0512      0.102     10.300      0.000       0.829       1.274\n",
      "x2            -0.0065      0.015     -0.425      0.678      -0.040       0.027\n",
      "==============================================================================\n",
      "Omnibus:                        1.276   Durbin-Watson:                   1.419\n",
      "Prob(Omnibus):                  0.528   Jarque-Bera (JB):                0.862\n",
      "Skew:                          -0.557   Prob(JB):                        0.650\n",
      "Kurtosis:                       2.627   Cond. No.                         309.\n",
      "==============================================================================\n",
      "\n",
      "Warnings:\n",
      "[1] Standard Errors assume that the covariance matrix of the errors is correctly specified.\n"
     ]
    },
    {
     "name": "stderr",
     "output_type": "stream",
     "text": [
      "/anaconda3/lib/python3.6/site-packages/scipy/stats/stats.py:1394: UserWarning: kurtosistest only valid for n>=20 ... continuing anyway, n=15\n",
      "  \"anyway, n=%i\" % int(n))\n"
     ]
    }
   ],
   "source": [
    "est = sm.OLS(Y, X_mat)\n",
    "est2 = est.fit()\n",
    "print(est2.summary())"
   ]
  }
 ],
 "metadata": {
  "kernelspec": {
   "display_name": "Python 3",
   "language": "python",
   "name": "python3"
  },
  "language_info": {
   "codemirror_mode": {
    "name": "ipython",
    "version": 3
   },
   "file_extension": ".py",
   "mimetype": "text/x-python",
   "name": "python",
   "nbconvert_exporter": "python",
   "pygments_lexer": "ipython3",
   "version": "3.6.5"
  }
 },
 "nbformat": 4,
 "nbformat_minor": 2
}
